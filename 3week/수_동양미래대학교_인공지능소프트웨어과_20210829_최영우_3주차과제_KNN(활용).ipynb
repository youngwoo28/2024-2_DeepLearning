{
  "nbformat": 4,
  "nbformat_minor": 0,
  "metadata": {
    "colab": {
      "provenance": [],
      "authorship_tag": "ABX9TyORg821+RKoPz7QjE2y4x67",
      "include_colab_link": true
    },
    "kernelspec": {
      "name": "python3",
      "display_name": "Python 3"
    },
    "language_info": {
      "name": "python"
    }
  },
  "cells": [
    {
      "cell_type": "markdown",
      "metadata": {
        "id": "view-in-github",
        "colab_type": "text"
      },
      "source": [
        "<a href=\"https://colab.research.google.com/github/youngwoo28/2024-2_DeepLearning/blob/main/3week/%EC%88%98_%EB%8F%99%EC%96%91%EB%AF%B8%EB%9E%98%EB%8C%80%ED%95%99%EA%B5%90_%EC%9D%B8%EA%B3%B5%EC%A7%80%EB%8A%A5%EC%86%8C%ED%94%84%ED%8A%B8%EC%9B%A8%EC%96%B4%EA%B3%BC_20210829_%EC%B5%9C%EC%98%81%EC%9A%B0_2%EC%A3%BC%EC%B0%A8%EA%B3%BC%EC%A0%9C_KNN(%ED%99%9C%EC%9A%A9).ipynb\" target=\"_parent\"><img src=\"https://colab.research.google.com/assets/colab-badge.svg\" alt=\"Open In Colab\"/></a>"
      ]
    },
    {
      "cell_type": "markdown",
      "source": [
        "KNN(K-Nearest Neighbors)\n",
        "\n"
      ],
      "metadata": {
        "id": "Fp4Dh2sZYWum"
      }
    },
    {
      "cell_type": "markdown",
      "source": [
        "#### import library & read csv data"
      ],
      "metadata": {
        "id": "Zy0tDDj1ei0b"
      }
    },
    {
      "cell_type": "code",
      "execution_count": 185,
      "metadata": {
        "id": "IHkjrk7JXQzM"
      },
      "outputs": [],
      "source": [
        "#library & data\n",
        "import numpy as np\n",
        "import pandas as pd\n",
        "import matplotlib.pyplot as plt\n",
        "from sklearn import metrics\n",
        "# from sklearn.datasets import load_iris\n",
        "# iris = load_iris()\n",
        "\n",
        "# column of dataset\n",
        "#names = ['Sepal.Length', 'Sepal.Width', 'Petal.Length', 'Petal.Width', 'Species']\n",
        "#dataset = pd.read_csv('/content/dgu_data/lris.csv')\n",
        "dataset = pd.read_csv('../content/sample_data/Data_all/iris.csv') #시험 문제"
      ]
    },
    {
      "cell_type": "code",
      "source": [
        "#dataset\n",
        "#print(dataset)\n",
        "#dataset.info()\n",
        "#dataset.describe() #시험 문제\n",
        "#dataset.head(5)\n",
        "### dataset.rows , row 는 없어서 안 뜸\n",
        "#dataset.tail()\n",
        "#dataset.columns\n",
        "#dataset.shape\n",
        "#dataset.dtypes\n",
        "dataset.isnull().sum()"
      ],
      "metadata": {
        "colab": {
          "base_uri": "https://localhost:8080/",
          "height": 268
        },
        "id": "kW_DdcSwf4Zs",
        "outputId": "d91e9bcc-36f2-4a2f-bd27-7811968ffaa9"
      },
      "execution_count": 186,
      "outputs": [
        {
          "output_type": "execute_result",
          "data": {
            "text/plain": [
              "Id              0\n",
              "sepal-length    0\n",
              "sepal-width     0\n",
              "petal-length    0\n",
              "petal-width     0\n",
              "species         0\n",
              "dtype: int64"
            ],
            "text/html": [
              "<div>\n",
              "<style scoped>\n",
              "    .dataframe tbody tr th:only-of-type {\n",
              "        vertical-align: middle;\n",
              "    }\n",
              "\n",
              "    .dataframe tbody tr th {\n",
              "        vertical-align: top;\n",
              "    }\n",
              "\n",
              "    .dataframe thead th {\n",
              "        text-align: right;\n",
              "    }\n",
              "</style>\n",
              "<table border=\"1\" class=\"dataframe\">\n",
              "  <thead>\n",
              "    <tr style=\"text-align: right;\">\n",
              "      <th></th>\n",
              "      <th>0</th>\n",
              "    </tr>\n",
              "  </thead>\n",
              "  <tbody>\n",
              "    <tr>\n",
              "      <th>Id</th>\n",
              "      <td>0</td>\n",
              "    </tr>\n",
              "    <tr>\n",
              "      <th>sepal-length</th>\n",
              "      <td>0</td>\n",
              "    </tr>\n",
              "    <tr>\n",
              "      <th>sepal-width</th>\n",
              "      <td>0</td>\n",
              "    </tr>\n",
              "    <tr>\n",
              "      <th>petal-length</th>\n",
              "      <td>0</td>\n",
              "    </tr>\n",
              "    <tr>\n",
              "      <th>petal-width</th>\n",
              "      <td>0</td>\n",
              "    </tr>\n",
              "    <tr>\n",
              "      <th>species</th>\n",
              "      <td>0</td>\n",
              "    </tr>\n",
              "  </tbody>\n",
              "</table>\n",
              "</div><br><label><b>dtype:</b> int64</label>"
            ]
          },
          "metadata": {},
          "execution_count": 186
        }
      ]
    },
    {
      "cell_type": "code",
      "source": [
        "# training 과 test dataset 분리\n",
        "X = dataset.iloc[0:, 1:-1].values   #뒤에서 하나를 뺸 값을 가져와서 X에 저장   / 슬라이싱 시험 문제에 나옴\n",
        "y = dataset.iloc[0:, 5].values      #열은 앞에서 다섯 번쨰 값만 가져와서 y에 저장  / 슬라이싱 시험 문제에 나옴\n",
        "# 위에 부분 id 부분 없애기 교수님은\n",
        "# X = dataset.iloc[0:, :-1].values\n",
        "# y = dataset.iloc[:, 4].values 이렇게 쓰셨음.\n",
        "\n",
        "#X.shape\n",
        "#X\n",
        "y.shape\n",
        "#y\n",
        "#print(X)\n",
        "#print(y)"
      ],
      "metadata": {
        "colab": {
          "base_uri": "https://localhost:8080/"
        },
        "id": "Mr9hTWh_hnv_",
        "outputId": "6412d36f-f237-470e-d673-8359b6cdda3b"
      },
      "execution_count": 187,
      "outputs": [
        {
          "output_type": "execute_result",
          "data": {
            "text/plain": [
              "(150,)"
            ]
          },
          "metadata": {},
          "execution_count": 187
        }
      ]
    },
    {
      "cell_type": "markdown",
      "source": [
        "#### training dataset : 70% / test dataset : 30%"
      ],
      "metadata": {
        "id": "26hQuobsjO9_"
      }
    },
    {
      "cell_type": "code",
      "source": [
        "from sklearn.model_selection import train_test_split                     # 시험 문제 import train_test_split -> 중요\n",
        "X_train, X_test, y_train, y_test = train_test_split(X, y, test_size=0.30) # 시험 문제 / test dataset 20% 사용\n",
        "\n",
        "#### 책과 다르게 test dataset을 30% 사용, 당연하게 training dataset은 70%\n",
        "\n",
        "\n",
        "#X_train.shape\n",
        "#X_test.shape\n",
        "#y_train.shape\n",
        "y_test.shape\n"
      ],
      "metadata": {
        "colab": {
          "base_uri": "https://localhost:8080/"
        },
        "id": "azRbDYOqitoG",
        "outputId": "87053e71-1b28-4048-9c79-3189e839a0f8"
      },
      "execution_count": 188,
      "outputs": [
        {
          "output_type": "execute_result",
          "data": {
            "text/plain": [
              "(45,)"
            ]
          },
          "metadata": {},
          "execution_count": 188
        }
      ]
    },
    {
      "cell_type": "code",
      "source": [
        "#Data Standardization(표준화) : Feature의 범위가 다른 경우에만 사용\n",
        "from sklearn.preprocessing import StandardScaler\n",
        "s = StandardScaler()        # 특성 스케일링(scaling), 평균은 0, 표준편차가 1이 되도록 변환\n",
        "s.fit(X_train)         ## 교과서를 변경한 부분\n",
        "\n",
        "X_train = s.transform(X_train)    # 훈련 데이터를 스케일링 처리\n",
        "X_test = s.transform(X_test)      # 테스트 데이터를 스케일링 처리\n",
        "\n",
        "X_train\n",
        "#X_test"
      ],
      "metadata": {
        "colab": {
          "base_uri": "https://localhost:8080/"
        },
        "id": "swFVzHrYj6lg",
        "outputId": "9f699bf4-2942-4afa-95d6-ffc955524c36"
      },
      "execution_count": 189,
      "outputs": [
        {
          "output_type": "execute_result",
          "data": {
            "text/plain": [
              "array([[ 7.13169973e-01, -1.25438260e-01,  1.07835565e+00,\n",
              "         1.23962317e+00],\n",
              "       [-1.06975496e+00, -1.25438260e-01, -1.28641233e+00,\n",
              "        -1.37404014e+00],\n",
              "       [ 2.13950992e+00, -5.95831733e-01,  1.58509164e+00,\n",
              "         9.78256842e-01],\n",
              "       [ 5.94308311e-01,  3.44955214e-01,  3.46403654e-01,\n",
              "         3.24841012e-01],\n",
              "       [-1.18861662e-01, -1.06622521e+00,  6.48836565e-02,\n",
              "        -6.72084853e-02],\n",
              "       [ 1.30747828e+00,  3.44955214e-01,  4.59011653e-01,\n",
              "         1.94157847e-01],\n",
              "       [-1.30747828e+00,  8.15348687e-01, -1.28641233e+00,\n",
              "        -1.37404014e+00],\n",
              "       [-5.94308311e-01,  1.99133237e+00, -1.23010833e+00,\n",
              "        -1.11267381e+00],\n",
              "       [ 2.37723324e-01, -1.25438260e-01,  5.71619652e-01,\n",
              "         7.16890510e-01],\n",
              "       [ 4.75446649e-01, -1.30142194e+00,  5.71619652e-01,\n",
              "         3.24841012e-01],\n",
              "       [-1.54520161e+00,  3.44955214e-01, -1.39902033e+00,\n",
              "        -1.37404014e+00],\n",
              "       [-1.18861662e+00,  1.09758477e-01, -1.34271633e+00,\n",
              "        -1.50472331e+00],\n",
              "       [ 3.56584986e-01, -3.60634996e-01,  2.33795655e-01,\n",
              "         6.34746806e-02],\n",
              "       [-1.06975496e+00,  5.80151950e-01, -1.39902033e+00,\n",
              "        -1.37404014e+00],\n",
              "       [-1.06975496e+00,  1.28574216e+00, -1.39902033e+00,\n",
              "        -1.37404014e+00],\n",
              "       [ 2.37723324e+00,  1.75613563e+00,  1.41617964e+00,\n",
              "         9.78256842e-01],\n",
              "       [-1.18861662e+00,  1.09758477e-01, -1.34271633e+00,\n",
              "        -1.50472331e+00],\n",
              "       [-1.90178659e+00, -1.25438260e-01, -1.56793233e+00,\n",
              "        -1.50472331e+00],\n",
              "       [ 1.54520161e+00, -1.25438260e-01,  1.07835565e+00,\n",
              "         4.55524178e-01],\n",
              "       [-4.75446649e-01, -1.06622521e+00,  2.90099654e-01,\n",
              "        -6.72084853e-02],\n",
              "       [ 9.50893297e-01,  5.80151950e-01,  1.02205165e+00,\n",
              "         1.63167267e+00],\n",
              "       [-3.56584986e-01, -8.31028469e-01,  1.77491655e-01,\n",
              "         6.34746806e-02],\n",
              "       [-1.18861662e-01, -8.31028469e-01,  6.84227651e-01,\n",
              "         8.47573676e-01],\n",
              "       [-9.50893297e-01,  5.80151950e-01, -1.23010833e+00,\n",
              "        -9.81990647e-01],\n",
              "       [-4.75446649e-01, -1.30142194e+00,  6.48836565e-02,\n",
              "         6.34746806e-02],\n",
              "       [ 5.94308311e-01,  1.09758477e-01,  9.09443648e-01,\n",
              "         7.16890510e-01],\n",
              "       [-1.66406327e+00, -1.77181542e+00, -1.45532433e+00,\n",
              "        -1.24335698e+00],\n",
              "       [ 1.54520161e+00,  1.28574216e+00,  1.24726765e+00,\n",
              "         1.63167267e+00],\n",
              "       [-3.56584986e-01, -1.25438260e-01,  3.46403654e-01,\n",
              "         3.24841012e-01],\n",
              "       [-1.18861662e+00,  1.09758477e-01, -1.34271633e+00,\n",
              "        -1.50472331e+00],\n",
              "       [-1.18861662e+00, -1.53661868e+00, -3.29244340e-01,\n",
              "        -3.28574817e-01],\n",
              "       [ 3.56584986e-01,  8.15348687e-01,  8.53139649e-01,\n",
              "         1.37030634e+00],\n",
              "       [ 2.13950992e+00, -1.25438260e-01,  1.24726765e+00,\n",
              "         1.37030634e+00],\n",
              "       [-1.30747828e+00, -1.25438260e-01, -1.39902033e+00,\n",
              "        -1.24335698e+00],\n",
              "       [ 9.50893297e-01, -1.30142194e+00,  1.07835565e+00,\n",
              "         7.16890510e-01],\n",
              "       [-9.50893297e-01, -1.30142194e+00, -4.98156338e-01,\n",
              "        -1.97891651e-01],\n",
              "       [ 1.18861662e-01, -1.25438260e-01,  5.15315652e-01,\n",
              "         7.16890510e-01],\n",
              "       [ 7.13169973e-01, -5.95831733e-01,  4.02707653e-01,\n",
              "         3.24841012e-01],\n",
              "       [ 2.13950992e+00, -1.06622521e+00,  1.69769964e+00,\n",
              "         1.37030634e+00],\n",
              "       [ 1.06975496e+00, -1.25438260e-01,  9.09443648e-01,\n",
              "         1.10894001e+00],\n",
              "       [ 2.37723324e-01, -5.95831733e-01,  4.59011653e-01,\n",
              "        -6.72084853e-02],\n",
              "       [ 9.50893297e-01,  5.80151950e-01,  1.02205165e+00,\n",
              "         1.10894001e+00],\n",
              "       [-4.75446649e-01, -1.77181542e+00,  6.48836565e-02,\n",
              "         6.34746806e-02],\n",
              "       [-3.56584986e-01, -3.60634996e-01, -1.60332341e-01,\n",
              "         6.34746806e-02],\n",
              "       [ 2.37723324e-01, -5.95831733e-01,  6.48836565e-02,\n",
              "         6.34746806e-02],\n",
              "       [ 2.37723324e-01, -1.06622521e+00,  9.65747648e-01,\n",
              "         1.94157847e-01],\n",
              "       [-1.30747828e+00,  1.09758477e-01, -1.28641233e+00,\n",
              "        -1.37404014e+00],\n",
              "       [ 2.13950992e+00,  1.75613563e+00,  1.58509164e+00,\n",
              "         1.23962317e+00],\n",
              "       [-9.50893297e-01,  1.05054542e+00, -1.39902033e+00,\n",
              "        -1.37404014e+00],\n",
              "       [-4.75446649e-01, -1.53661868e+00, -1.04028342e-01,\n",
              "        -3.28574817e-01],\n",
              "       [ 8.32031635e-01, -1.25438260e-01,  2.90099654e-01,\n",
              "         1.94157847e-01],\n",
              "       [ 4.75446649e-01, -3.60634996e-01,  9.65747648e-01,\n",
              "         7.16890510e-01],\n",
              "       [ 5.94308311e-01,  3.44955214e-01,  7.96835649e-01,\n",
              "         1.37030634e+00],\n",
              "       [ 2.02064826e+00, -1.25438260e-01,  1.52878764e+00,\n",
              "         1.10894001e+00],\n",
              "       [-1.05570363e-15, -1.25438260e-01,  6.84227651e-01,\n",
              "         7.16890510e-01],\n",
              "       [ 2.37723324e-01, -3.60634996e-01,  4.59011653e-01,\n",
              "         1.94157847e-01],\n",
              "       [-5.94308311e-01, -1.25438260e-01,  3.46403654e-01,\n",
              "         3.24841012e-01],\n",
              "       [ 3.56584986e-01, -5.95831733e-01,  5.15315652e-01,\n",
              "         7.16890510e-01],\n",
              "       [ 1.18861662e+00,  1.09758477e-01,  6.84227651e-01,\n",
              "         1.37030634e+00],\n",
              "       [-8.32031635e-01,  8.15348687e-01, -1.39902033e+00,\n",
              "        -1.37404014e+00],\n",
              "       [ 4.75446649e-01,  5.80151950e-01,  1.19096365e+00,\n",
              "         1.63167267e+00],\n",
              "       [ 4.75446649e-01, -5.95831733e-01,  6.84227651e-01,\n",
              "         3.24841012e-01],\n",
              "       [ 4.75446649e-01,  8.15348687e-01,  9.65747648e-01,\n",
              "         1.50098951e+00],\n",
              "       [-1.30747828e+00, -1.25438260e-01, -1.39902033e+00,\n",
              "        -1.50472331e+00],\n",
              "       [ 4.75446649e-01, -1.77181542e+00,  2.90099654e-01,\n",
              "         6.34746806e-02],\n",
              "       [-8.32031635e-01,  2.46172584e+00, -1.34271633e+00,\n",
              "        -1.50472331e+00],\n",
              "       [ 5.94308311e-01, -5.95831733e-01,  9.65747648e-01,\n",
              "         1.10894001e+00],\n",
              "       [ 3.56584986e-01, -2.00701215e+00,  3.46403654e-01,\n",
              "         3.24841012e-01],\n",
              "       [-5.94308311e-01,  8.15348687e-01, -1.34271633e+00,\n",
              "        -1.11267381e+00],\n",
              "       [ 4.75446649e-01, -8.31028469e-01,  5.71619652e-01,\n",
              "         7.16890510e-01],\n",
              "       [-9.50893297e-01,  8.15348687e-01, -1.34271633e+00,\n",
              "        -1.37404014e+00],\n",
              "       [-1.54520161e+00,  1.09758477e-01, -1.34271633e+00,\n",
              "        -1.37404014e+00],\n",
              "       [-2.37723324e-01, -3.60634996e-01,  1.77491655e-01,\n",
              "         6.34746806e-02],\n",
              "       [ 2.37723324e-01, -1.25438260e-01,  4.02707653e-01,\n",
              "         1.94157847e-01],\n",
              "       [ 4.75446649e-01,  5.80151950e-01,  4.59011653e-01,\n",
              "         4.55524178e-01],\n",
              "       [-1.42633995e+00,  3.44955214e-01, -1.28641233e+00,\n",
              "        -1.37404014e+00],\n",
              "       [-1.18861662e-01, -5.95831733e-01,  6.84227651e-01,\n",
              "         1.50098951e+00],\n",
              "       [-1.18861662e+00, -1.25438260e-01, -1.39902033e+00,\n",
              "        -1.37404014e+00],\n",
              "       [ 1.06975496e+00,  3.44955214e-01,  1.13465965e+00,\n",
              "         1.37030634e+00],\n",
              "       [-9.50893297e-01,  1.05054542e+00, -1.39902033e+00,\n",
              "        -1.24335698e+00],\n",
              "       [-4.75446649e-01,  2.69692258e+00, -1.39902033e+00,\n",
              "        -1.37404014e+00],\n",
              "       [ 9.50893297e-01, -1.25438260e-01,  6.27923651e-01,\n",
              "         5.86207344e-01],\n",
              "       [-2.37723324e-01,  3.16731605e+00, -1.34271633e+00,\n",
              "        -1.11267381e+00],\n",
              "       [ 1.18861662e-01,  8.15348687e-01,  3.46403654e-01,\n",
              "         4.55524178e-01],\n",
              "       [-9.50893297e-01,  1.75613563e+00, -1.34271633e+00,\n",
              "        -1.24335698e+00],\n",
              "       [ 7.13169973e-01, -1.25438260e-01,  7.40531650e-01,\n",
              "         9.78256842e-01],\n",
              "       [-1.05570363e-15, -1.25438260e-01,  1.77491655e-01,\n",
              "         3.24841012e-01],\n",
              "       [ 7.13169973e-01, -1.25438260e-01,  9.09443648e-01,\n",
              "         7.16890510e-01],\n",
              "       [-1.54520161e+00,  8.15348687e-01, -1.39902033e+00,\n",
              "        -1.24335698e+00],\n",
              "       [-2.37723324e-01, -1.25438260e-01,  1.77491655e-01,\n",
              "        -6.72084853e-02],\n",
              "       [-1.06975496e+00,  3.44955214e-01, -1.51162833e+00,\n",
              "        -1.37404014e+00],\n",
              "       [ 5.94308311e-01, -8.31028469e-01,  7.96835649e-01,\n",
              "         8.47573676e-01],\n",
              "       [-1.18861662e+00, -1.30142194e+00,  3.46403654e-01,\n",
              "         5.86207344e-01],\n",
              "       [-1.06975496e+00,  8.15348687e-01, -1.28641233e+00,\n",
              "        -1.11267381e+00],\n",
              "       [ 1.54520161e+00,  3.44955214e-01,  1.19096365e+00,\n",
              "         7.16890510e-01],\n",
              "       [ 1.18861662e+00,  1.09758477e-01,  8.53139649e-01,\n",
              "         1.10894001e+00],\n",
              "       [-9.50893297e-01,  1.75613563e+00, -1.11750033e+00,\n",
              "        -1.11267381e+00],\n",
              "       [ 1.18861662e-01, -2.00701215e+00,  6.48836565e-02,\n",
              "        -3.28574817e-01],\n",
              "       [-1.06975496e+00,  1.05054542e+00, -1.45532433e+00,\n",
              "        -1.24335698e+00],\n",
              "       [ 1.18861662e-01, -3.60634996e-01,  3.46403654e-01,\n",
              "         3.24841012e-01],\n",
              "       [-3.56584986e-01, -1.30142194e+00,  8.57965706e-03,\n",
              "        -1.97891651e-01],\n",
              "       [ 1.42633995e+00, -1.25438260e-01,  1.13465965e+00,\n",
              "         1.10894001e+00],\n",
              "       [-5.94308311e-01,  1.99133237e+00, -1.45532433e+00,\n",
              "        -1.11267381e+00],\n",
              "       [ 4.75446649e-01, -1.30142194e+00,  6.27923651e-01,\n",
              "         8.47573676e-01],\n",
              "       [ 1.06975496e+00, -5.95831733e-01,  5.15315652e-01,\n",
              "         1.94157847e-01]])"
            ]
          },
          "metadata": {},
          "execution_count": 189
        }
      ]
    },
    {
      "cell_type": "code",
      "source": [
        "# create model (KNN)\n",
        "from sklearn.neighbors import KNeighborsClassifier\n",
        "knn = KNeighborsClassifier(n_neighbors=10)     # k의값 : 3,5,7,9,11,13,15,17,19.......49\n",
        "### 책과 다르게 n_neighbors=10 으로 설정 (책은 50)\n",
        "#y_train = y_train.astype(int)    # fit type error\n",
        "knn.fit(X_train, y_train)"
      ],
      "metadata": {
        "colab": {
          "base_uri": "https://localhost:8080/",
          "height": 73
        },
        "id": "sYpwBsB9khUT",
        "outputId": "5b5ea1fe-d6f0-4f3a-df27-4ad2e7300731"
      },
      "execution_count": 190,
      "outputs": [
        {
          "output_type": "execute_result",
          "data": {
            "text/plain": [
              "KNeighborsClassifier(n_neighbors=10)"
            ],
            "text/html": [
              "<style>#sk-container-id-9 {color: black;}#sk-container-id-9 pre{padding: 0;}#sk-container-id-9 div.sk-toggleable {background-color: white;}#sk-container-id-9 label.sk-toggleable__label {cursor: pointer;display: block;width: 100%;margin-bottom: 0;padding: 0.3em;box-sizing: border-box;text-align: center;}#sk-container-id-9 label.sk-toggleable__label-arrow:before {content: \"▸\";float: left;margin-right: 0.25em;color: #696969;}#sk-container-id-9 label.sk-toggleable__label-arrow:hover:before {color: black;}#sk-container-id-9 div.sk-estimator:hover label.sk-toggleable__label-arrow:before {color: black;}#sk-container-id-9 div.sk-toggleable__content {max-height: 0;max-width: 0;overflow: hidden;text-align: left;background-color: #f0f8ff;}#sk-container-id-9 div.sk-toggleable__content pre {margin: 0.2em;color: black;border-radius: 0.25em;background-color: #f0f8ff;}#sk-container-id-9 input.sk-toggleable__control:checked~div.sk-toggleable__content {max-height: 200px;max-width: 100%;overflow: auto;}#sk-container-id-9 input.sk-toggleable__control:checked~label.sk-toggleable__label-arrow:before {content: \"▾\";}#sk-container-id-9 div.sk-estimator input.sk-toggleable__control:checked~label.sk-toggleable__label {background-color: #d4ebff;}#sk-container-id-9 div.sk-label input.sk-toggleable__control:checked~label.sk-toggleable__label {background-color: #d4ebff;}#sk-container-id-9 input.sk-hidden--visually {border: 0;clip: rect(1px 1px 1px 1px);clip: rect(1px, 1px, 1px, 1px);height: 1px;margin: -1px;overflow: hidden;padding: 0;position: absolute;width: 1px;}#sk-container-id-9 div.sk-estimator {font-family: monospace;background-color: #f0f8ff;border: 1px dotted black;border-radius: 0.25em;box-sizing: border-box;margin-bottom: 0.5em;}#sk-container-id-9 div.sk-estimator:hover {background-color: #d4ebff;}#sk-container-id-9 div.sk-parallel-item::after {content: \"\";width: 100%;border-bottom: 1px solid gray;flex-grow: 1;}#sk-container-id-9 div.sk-label:hover label.sk-toggleable__label {background-color: #d4ebff;}#sk-container-id-9 div.sk-serial::before {content: \"\";position: absolute;border-left: 1px solid gray;box-sizing: border-box;top: 0;bottom: 0;left: 50%;z-index: 0;}#sk-container-id-9 div.sk-serial {display: flex;flex-direction: column;align-items: center;background-color: white;padding-right: 0.2em;padding-left: 0.2em;position: relative;}#sk-container-id-9 div.sk-item {position: relative;z-index: 1;}#sk-container-id-9 div.sk-parallel {display: flex;align-items: stretch;justify-content: center;background-color: white;position: relative;}#sk-container-id-9 div.sk-item::before, #sk-container-id-9 div.sk-parallel-item::before {content: \"\";position: absolute;border-left: 1px solid gray;box-sizing: border-box;top: 0;bottom: 0;left: 50%;z-index: -1;}#sk-container-id-9 div.sk-parallel-item {display: flex;flex-direction: column;z-index: 1;position: relative;background-color: white;}#sk-container-id-9 div.sk-parallel-item:first-child::after {align-self: flex-end;width: 50%;}#sk-container-id-9 div.sk-parallel-item:last-child::after {align-self: flex-start;width: 50%;}#sk-container-id-9 div.sk-parallel-item:only-child::after {width: 0;}#sk-container-id-9 div.sk-dashed-wrapped {border: 1px dashed gray;margin: 0 0.4em 0.5em 0.4em;box-sizing: border-box;padding-bottom: 0.4em;background-color: white;}#sk-container-id-9 div.sk-label label {font-family: monospace;font-weight: bold;display: inline-block;line-height: 1.2em;}#sk-container-id-9 div.sk-label-container {text-align: center;}#sk-container-id-9 div.sk-container {/* jupyter's `normalize.less` sets `[hidden] { display: none; }` but bootstrap.min.css set `[hidden] { display: none !important; }` so we also need the `!important` here to be able to override the default hidden behavior on the sphinx rendered scikit-learn.org. See: https://github.com/scikit-learn/scikit-learn/issues/21755 */display: inline-block !important;position: relative;}#sk-container-id-9 div.sk-text-repr-fallback {display: none;}</style><div id=\"sk-container-id-9\" class=\"sk-top-container\"><div class=\"sk-text-repr-fallback\"><pre>KNeighborsClassifier(n_neighbors=10)</pre><b>In a Jupyter environment, please rerun this cell to show the HTML representation or trust the notebook. <br />On GitHub, the HTML representation is unable to render, please try loading this page with nbviewer.org.</b></div><div class=\"sk-container\" hidden><div class=\"sk-item\"><div class=\"sk-estimator sk-toggleable\"><input class=\"sk-toggleable__control sk-hidden--visually\" id=\"sk-estimator-id-9\" type=\"checkbox\" checked><label for=\"sk-estimator-id-9\" class=\"sk-toggleable__label sk-toggleable__label-arrow\">KNeighborsClassifier</label><div class=\"sk-toggleable__content\"><pre>KNeighborsClassifier(n_neighbors=10)</pre></div></div></div></div></div>"
            ]
          },
          "metadata": {},
          "execution_count": 190
        }
      ]
    },
    {
      "cell_type": "code",
      "source": [
        "# model accuracy\n",
        "from sklearn import metrics\n",
        "y_pred = knn.predict(X_test)\n",
        "#y_test = y_test.astype(int)\n",
        "print(\"Accuracy:{}\". format(metrics.accuracy_score(y_test, y_pred)))"
      ],
      "metadata": {
        "colab": {
          "base_uri": "https://localhost:8080/"
        },
        "id": "x0sCRU0Bl9d8",
        "outputId": "1d9a601c-7819-47ae-a698-d8b423251b27"
      },
      "execution_count": 191,
      "outputs": [
        {
          "output_type": "stream",
          "name": "stdout",
          "text": [
            "Accuracy:0.9555555555555556\n"
          ]
        }
      ]
    },
    {
      "cell_type": "code",
      "source": [
        "#####################################################\n",
        "k = 8      ### 책은 10\n",
        "acc_array = np.zeros(k)\n",
        "for k in np.arange(5, k+1, 2):     ### 책과 다르게 (책은 (1, k+1, 1))\n",
        "    knn = KNeighborsClassifier(n_neighbors=k).fit(X_train, y_train)\n",
        "    y_pred = knn.predict(X_test)\n",
        "    acc = metrics.accuracy_score(y_test, y_pred)\n",
        "    acc_array[k-1] = acc\n",
        "\n",
        "max_acc = np.amax(acc_array)\n",
        "acc_list = list(acc_array)\n",
        "k = acc_list.index(max_acc)\n",
        "print(\"Accuracy is \", metrics.accuracy_score(y_test, y_pred), \"for K-Value:\", k)"
      ],
      "metadata": {
        "colab": {
          "base_uri": "https://localhost:8080/"
        },
        "id": "XFIBH30jsGnq",
        "outputId": "cc56fe85-0a4f-414b-97b1-99817cfd7f72"
      },
      "execution_count": 192,
      "outputs": [
        {
          "output_type": "stream",
          "name": "stdout",
          "text": [
            "Accuracy is  0.9555555555555556 for K-Value: 6\n"
          ]
        }
      ]
    }
  ]
}

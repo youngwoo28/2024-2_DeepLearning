{
  "nbformat": 4,
  "nbformat_minor": 0,
  "metadata": {
    "colab": {
      "provenance": [],
      "authorship_tag": "ABX9TyOX6wEi7XzW+sQx1sGB/Aw6",
      "include_colab_link": true
    },
    "kernelspec": {
      "name": "python3",
      "display_name": "Python 3"
    },
    "language_info": {
      "name": "python"
    }
  },
  "cells": [
    {
      "cell_type": "markdown",
      "metadata": {
        "id": "view-in-github",
        "colab_type": "text"
      },
      "source": [
        "<a href=\"https://colab.research.google.com/github/youngwoo28/2024-2_DeepLearning/blob/main/%EC%88%98_%EB%8F%99%EC%96%91%EB%AF%B8%EB%9E%98%EB%8C%80%ED%95%99%EA%B5%90_%EC%9D%B8%EA%B3%B5%EC%A7%80%EB%8A%A5%EC%86%8C%ED%94%84%ED%8A%B8%EC%9B%A8%EC%96%B4%EA%B3%BC_20210829_%EC%B5%9C%EC%98%81%EC%9A%B0_2%EC%A3%BC%EC%B0%A8%EA%B3%BC%EC%A0%9C_KNN(%EC%B1%85).ipynb\" target=\"_parent\"><img src=\"https://colab.research.google.com/assets/colab-badge.svg\" alt=\"Open In Colab\"/></a>"
      ]
    },
    {
      "cell_type": "markdown",
      "source": [
        "KNN(K-Nearest Neighbors)\n",
        "\n"
      ],
      "metadata": {
        "id": "Fp4Dh2sZYWum"
      }
    },
    {
      "cell_type": "markdown",
      "source": [
        "#### import library & read csv data"
      ],
      "metadata": {
        "id": "Zy0tDDj1ei0b"
      }
    },
    {
      "cell_type": "code",
      "execution_count": 116,
      "metadata": {
        "id": "IHkjrk7JXQzM"
      },
      "outputs": [],
      "source": [
        "#library & data\n",
        "import numpy as np\n",
        "import pandas as pd\n",
        "import matplotlib.pyplot as plt\n",
        "from sklearn import metrics\n",
        "# from sklearn.datasets import load_iris\n",
        "# iris = load_iris()\n",
        "\n",
        "# column of dataset\n",
        "#names = ['Sepal.Length', 'Sepal.Width', 'Petal.Length', 'Petal.Width', 'Species']\n",
        "#dataset = pd.read_csv('/content/dgu_data/lris.csv')\n",
        "dataset = pd.read_csv('../content/sample_data/Data_all/iris.csv') #시험 문제"
      ]
    },
    {
      "cell_type": "code",
      "source": [
        "#dataset\n",
        "#print(dataset)\n",
        "#dataset.info()\n",
        "#dataset.describe() #시험 문제\n",
        "#dataset.head(5)\n",
        "### dataset.rows , row 는 없어서 안 뜸\n",
        "#dataset.tail()\n",
        "#dataset.columns\n",
        "#dataset.shape\n",
        "#dataset.dtypes\n",
        "dataset.isnull().sum()"
      ],
      "metadata": {
        "colab": {
          "base_uri": "https://localhost:8080/",
          "height": 288
        },
        "id": "kW_DdcSwf4Zs",
        "outputId": "b8af981a-7622-465e-dfbc-4ec500ef6696"
      },
      "execution_count": 117,
      "outputs": [
        {
          "output_type": "execute_result",
          "data": {
            "text/plain": [
              "Id              0\n",
              "sepal-length    0\n",
              "sepal-width     0\n",
              "petal-length    0\n",
              "petal-width     0\n",
              "species         0\n",
              "dtype: int64"
            ],
            "text/html": [
              "<div>\n",
              "<style scoped>\n",
              "    .dataframe tbody tr th:only-of-type {\n",
              "        vertical-align: middle;\n",
              "    }\n",
              "\n",
              "    .dataframe tbody tr th {\n",
              "        vertical-align: top;\n",
              "    }\n",
              "\n",
              "    .dataframe thead th {\n",
              "        text-align: right;\n",
              "    }\n",
              "</style>\n",
              "<table border=\"1\" class=\"dataframe\">\n",
              "  <thead>\n",
              "    <tr style=\"text-align: right;\">\n",
              "      <th></th>\n",
              "      <th>0</th>\n",
              "    </tr>\n",
              "  </thead>\n",
              "  <tbody>\n",
              "    <tr>\n",
              "      <th>Id</th>\n",
              "      <td>0</td>\n",
              "    </tr>\n",
              "    <tr>\n",
              "      <th>sepal-length</th>\n",
              "      <td>0</td>\n",
              "    </tr>\n",
              "    <tr>\n",
              "      <th>sepal-width</th>\n",
              "      <td>0</td>\n",
              "    </tr>\n",
              "    <tr>\n",
              "      <th>petal-length</th>\n",
              "      <td>0</td>\n",
              "    </tr>\n",
              "    <tr>\n",
              "      <th>petal-width</th>\n",
              "      <td>0</td>\n",
              "    </tr>\n",
              "    <tr>\n",
              "      <th>species</th>\n",
              "      <td>0</td>\n",
              "    </tr>\n",
              "  </tbody>\n",
              "</table>\n",
              "</div><br><label><b>dtype:</b> int64</label>"
            ]
          },
          "metadata": {},
          "execution_count": 117
        }
      ]
    },
    {
      "cell_type": "code",
      "source": [
        "# training 과 test dataset 분리\n",
        "X = dataset.iloc[0:, 1:-1].values   #뒤에서 하나를 뺸 값을 가져와서 X에 저장   / 슬라이싱 시험 문제에 나옴\n",
        "y = dataset.iloc[0:, 5].values      #열은 앞에서 다섯 번쨰 값만 가져와서 y에 저장  / 슬라이싱 시험 문제에 나옴\n",
        "\n",
        "\n",
        "#X.shape\n",
        "#X\n",
        "y.shape\n",
        "#y\n",
        "#print(X)\n",
        "#print(y)"
      ],
      "metadata": {
        "colab": {
          "base_uri": "https://localhost:8080/"
        },
        "id": "Mr9hTWh_hnv_",
        "outputId": "f336676c-147a-40b0-f3d0-251dabb03efc"
      },
      "execution_count": 139,
      "outputs": [
        {
          "output_type": "execute_result",
          "data": {
            "text/plain": [
              "(150,)"
            ]
          },
          "metadata": {},
          "execution_count": 139
        }
      ]
    },
    {
      "cell_type": "markdown",
      "source": [
        "#### training dataset : 80% / test dataset : 20%"
      ],
      "metadata": {
        "id": "26hQuobsjO9_"
      }
    },
    {
      "cell_type": "code",
      "source": [
        "from sklearn.model_selection import train_test_split                     # 시험 문제 import train_test_split -> 중요\n",
        "X_train, X_test, y_train, y_test = train_test_split(X, y, test_size=0.20) # 시험 문제 / test dataset 20% 사용\n",
        "\n",
        "#X_train.shape\n",
        "#X_test.shape\n",
        "#y_train.shape\n",
        "y_test.shape\n"
      ],
      "metadata": {
        "colab": {
          "base_uri": "https://localhost:8080/"
        },
        "id": "azRbDYOqitoG",
        "outputId": "c52f86e7-cd80-40f3-b44a-b43d64e2ded9"
      },
      "execution_count": 141,
      "outputs": [
        {
          "output_type": "execute_result",
          "data": {
            "text/plain": [
              "(30,)"
            ]
          },
          "metadata": {},
          "execution_count": 141
        }
      ]
    },
    {
      "cell_type": "code",
      "source": [
        "#Data Standardization(표준화) : Feature의 범위가 다른 경우에만 사용\n",
        "from sklearn.preprocessing import StandardScaler\n",
        "s = StandardScaler()        # 특성 스케일링(scaling), 평균은 0, 표준편차가 1이 되도록 변환\n",
        "s.fit(X_train)         ## 교과서를 변경한 부분\n",
        "\n",
        "X_train = s.transform(X_train)    # 훈련 데이터를 스케일링 처리\n",
        "X_test = s.transform(X_test)      # 테스트 데이터를 스케일링 처리\n",
        "\n",
        "X_train\n",
        "#X_test"
      ],
      "metadata": {
        "colab": {
          "base_uri": "https://localhost:8080/"
        },
        "id": "swFVzHrYj6lg",
        "outputId": "e9c7ed81-ec4c-4c2e-a6ff-9c0f1986003e"
      },
      "execution_count": 142,
      "outputs": [
        {
          "output_type": "execute_result",
          "data": {
            "text/plain": [
              "array([[-0.19474583,  3.25225854, -1.37878425, -1.13027488],\n",
              "       [ 0.28959614, -0.56690745,  0.51347147, -0.05488946],\n",
              "       [ 1.37936557,  0.38788405,  0.51347147,  0.21395689],\n",
              "       [ 2.22696403, -1.0443032 ,  1.81439728,  1.42376548],\n",
              "       [-0.8001733 ,  1.10397767, -1.37878425, -1.39912123],\n",
              "       [ 0.04742515,  0.38788405,  0.57260447,  0.7516496 ],\n",
              "       [ 0.53176712, -0.80560533,  0.63173746,  0.7516496 ],\n",
              "       [ 1.0161091 , -0.0895117 ,  0.80913643,  1.42376548],\n",
              "       [-0.31583133, -0.56690745,  0.63173746,  1.02049595],\n",
              "       [ 0.28959614, -0.32820958,  0.51347147,  0.21395689],\n",
              "       [ 0.65285262, -0.32820958,  0.27693951,  0.07953371],\n",
              "       [-1.04234429, -2.47649045, -0.19612442, -0.32373582],\n",
              "       [-0.55800231, -0.0895117 ,  0.39520549,  0.34838007],\n",
              "       [-0.31583133, -0.32820958, -0.13699143,  0.07953371],\n",
              "       [-0.19474583, -0.0895117 ,  0.21780652, -0.05488946],\n",
              "       [ 0.65285262,  0.38788405,  0.86826942,  1.42376548],\n",
              "       [-0.92125879,  1.58137342, -1.37878425, -1.13027488],\n",
              "       [ 1.25828008,  0.38788405,  1.10480139,  1.42376548],\n",
              "       [-1.04234429,  0.38788405, -1.55618322, -1.39912123],\n",
              "       [-0.8001733 ,  2.53616491, -1.37878425, -1.53354441],\n",
              "       [-0.8001733 ,  0.86527979, -1.43791724, -1.39912123],\n",
              "       [ 0.53176712,  0.62658192,  0.51347147,  0.48280324],\n",
              "       [-0.8001733 , -0.80560533,  0.04040754,  0.21395689],\n",
              "       [ 1.13719459, -0.56690745,  0.57260447,  0.21395689],\n",
              "       [-0.55800231,  2.05876917, -1.26051827, -1.13027488],\n",
              "       [ 1.62153656,  0.38788405,  1.28220036,  0.7516496 ],\n",
              "       [-0.92125879, -1.28300107, -0.49178938, -0.18931264],\n",
              "       [-1.28451527, -0.0895117 , -1.43791724, -1.53354441],\n",
              "       [ 1.25828008,  0.14918617,  0.92740241,  1.15491913],\n",
              "       [-0.07366034, -0.80560533,  0.75000344,  0.88607277],\n",
              "       [-0.55800231,  0.86527979, -1.26051827, -1.39912123],\n",
              "       [-1.16342978, -1.28300107,  0.39520549,  0.61722642],\n",
              "       [-1.64777175, -1.76039682, -1.49705023, -1.26469806],\n",
              "       [ 1.13719459,  0.38788405,  1.22306737,  1.42376548],\n",
              "       [ 0.41068163, -0.32820958,  0.27693951,  0.07953371],\n",
              "       [ 0.8950236 , -0.32820958,  0.45433848,  0.07953371],\n",
              "       [ 0.53176712,  0.62658192,  1.28220036,  1.69261184],\n",
              "       [ 1.74262205, -0.32820958,  1.45959934,  0.7516496 ],\n",
              "       [ 1.0161091 , -0.0895117 ,  0.69087045,  0.61722642],\n",
              "       [ 0.04742515, -0.0895117 ,  0.21780652,  0.34838007],\n",
              "       [-1.28451527, -0.0895117 , -1.43791724, -1.26469806],\n",
              "       [-1.04234429,  0.86527979, -1.31965126, -1.13027488],\n",
              "       [-0.31583133, -0.80560533,  0.21780652,  0.07953371],\n",
              "       [-0.19474583, -0.32820958,  0.21780652,  0.07953371],\n",
              "       [ 0.16851064,  0.86527979,  0.39520549,  0.48280324],\n",
              "       [-1.52668626,  1.34267554, -1.6744492 , -1.39912123],\n",
              "       [ 0.16851064, -0.32820958,  0.39520549,  0.34838007],\n",
              "       [ 1.62153656,  1.34267554,  1.34133335,  1.69261184],\n",
              "       [ 0.53176712, -1.28300107,  0.69087045,  0.88607277],\n",
              "       [ 0.53176712, -1.28300107,  0.63173746,  0.34838007],\n",
              "       [-1.76885724, -0.0895117 , -1.49705023, -1.39912123],\n",
              "       [-1.04234429,  1.10397767, -1.31965126, -0.86142853],\n",
              "       [ 0.28959614, -0.0895117 ,  0.45433848,  0.21395689],\n",
              "       [ 0.41068163,  0.86527979,  0.92740241,  1.42376548],\n",
              "       [-1.16342978, -0.0895117 , -1.43791724, -1.39912123],\n",
              "       [ 0.28959614, -0.56690745,  0.09954054,  0.07953371],\n",
              "       [-0.43691682, -1.28300107,  0.09954054,  0.07953371],\n",
              "       [-1.52668626,  0.38788405, -1.43791724, -1.39912123],\n",
              "       [-0.43691682,  1.10397767, -1.49705023, -1.39912123],\n",
              "       [ 0.28959614, -0.0895117 ,  0.63173746,  0.7516496 ],\n",
              "       [-0.07366034, -0.80560533,  0.15867353, -0.32373582],\n",
              "       [-0.55800231,  0.86527979, -1.37878425, -1.13027488],\n",
              "       [-1.16342978,  0.14918617, -1.37878425, -1.53354441],\n",
              "       [-0.67908781,  1.58137342, -1.37878425, -1.39912123],\n",
              "       [ 0.16851064, -0.0895117 ,  0.57260447,  0.7516496 ],\n",
              "       [-0.07366034, -1.0443032 ,  0.09954054, -0.05488946],\n",
              "       [-0.19474583, -1.0443032 , -0.19612442, -0.32373582],\n",
              "       [ 0.16851064, -0.80560533,  0.75000344,  0.48280324],\n",
              "       [-0.31583133, -0.0895117 ,  0.15867353,  0.07953371],\n",
              "       [-1.76885724,  0.38788405, -1.49705023, -1.39912123],\n",
              "       [-1.40560076,  0.38788405, -1.49705023, -1.39912123],\n",
              "       [-1.28451527,  0.86527979, -1.14225228, -1.39912123],\n",
              "       [-0.43691682, -1.0443032 ,  0.3360725 , -0.05488946],\n",
              "       [ 0.53176712, -0.56690745,  0.75000344,  0.34838007],\n",
              "       [ 1.0161091 ,  0.14918617,  0.3360725 ,  0.21395689],\n",
              "       [-0.92125879,  1.82007129, -1.31965126, -1.39912123],\n",
              "       [ 0.8950236 , -0.0895117 ,  0.3360725 ,  0.21395689],\n",
              "       [ 0.53176712,  0.86527979,  1.0456684 ,  1.55818866],\n",
              "       [-0.19474583, -1.28300107,  0.69087045,  1.02049595],\n",
              "       [ 1.0161091 ,  0.14918617,  0.51347147,  0.34838007],\n",
              "       [ 2.10587853, -0.0895117 ,  1.63699831,  1.15491913],\n",
              "       [-0.07366034, -0.80560533,  0.75000344,  0.88607277],\n",
              "       [-1.04234429, -1.76039682, -0.3143904 , -0.32373582],\n",
              "       [ 0.16851064, -1.9990947 ,  0.09954054, -0.32373582],\n",
              "       [-1.04234429, -0.0895117 , -1.31965126, -1.39912123],\n",
              "       [ 0.16851064, -1.9990947 ,  0.69087045,  0.34838007],\n",
              "       [ 0.77393811, -0.0895117 ,  1.16393438,  1.28934231],\n",
              "       [-0.43691682, -1.52169895, -0.07785844, -0.32373582],\n",
              "       [ 0.04742515, -0.0895117 ,  0.75000344,  0.7516496 ],\n",
              "       [ 1.13719459, -0.0895117 ,  0.98653541,  1.15491913],\n",
              "       [-0.31583133, -1.28300107,  0.04040754, -0.18931264],\n",
              "       [-1.76885724, -0.32820958, -1.43791724, -1.39912123],\n",
              "       [-1.16342978,  0.14918617, -1.37878425, -1.53354441],\n",
              "       [ 1.25828008,  0.14918617,  0.75000344,  1.42376548],\n",
              "       [-1.04234429,  0.86527979, -1.37878425, -1.39912123],\n",
              "       [-0.92125879,  0.62658192, -1.26051827, -0.9958517 ],\n",
              "       [ 1.86370755, -0.56690745,  1.34133335,  0.88607277],\n",
              "       [ 2.22696403, -0.0895117 ,  1.34133335,  1.42376548],\n",
              "       [-0.07366034, -0.80560533,  0.04040754, -0.05488946],\n",
              "       [ 0.77393811,  0.38788405,  0.75000344,  1.02049595],\n",
              "       [-1.52668626,  0.86527979, -1.43791724, -1.26469806],\n",
              "       [-1.16342978, -1.52169895, -0.3143904 , -0.32373582],\n",
              "       [ 1.0161091 ,  0.62658192,  1.10480139,  1.69261184],\n",
              "       [ 0.77393811, -0.0895117 ,  0.80913643,  1.02049595],\n",
              "       [-0.43691682, -1.76039682,  0.09954054,  0.07953371],\n",
              "       [ 1.0161091 ,  0.62658192,  1.10480139,  1.15491913],\n",
              "       [ 0.77393811, -0.0895117 ,  0.98653541,  0.7516496 ],\n",
              "       [ 1.25828008,  0.14918617,  0.63173746,  0.34838007],\n",
              "       [ 0.41068163, -1.9990947 ,  0.39520549,  0.34838007],\n",
              "       [-0.55800231,  1.58137342, -1.37878425, -1.39912123],\n",
              "       [-0.92125879,  1.82007129, -1.14225228, -1.13027488],\n",
              "       [-0.92125879,  1.10397767, -1.43791724, -1.39912123],\n",
              "       [ 0.41068163, -0.56690745,  0.57260447,  0.7516496 ],\n",
              "       [-0.92125879,  1.10397767, -1.43791724, -1.26469806],\n",
              "       [ 2.46913501,  1.82007129,  1.51873233,  1.02049595],\n",
              "       [ 1.0161091 ,  0.14918617,  1.0456684 ,  1.55818866],\n",
              "       [ 0.65285262,  0.38788405,  0.39520549,  0.34838007],\n",
              "       [-1.52668626,  0.14918617, -1.37878425, -1.39912123],\n",
              "       [ 2.22696403,  1.82007129,  1.6961313 ,  1.28934231],\n",
              "       [-0.19474583, -0.56690745,  0.39520549,  0.07953371]])"
            ]
          },
          "metadata": {},
          "execution_count": 142
        }
      ]
    },
    {
      "cell_type": "code",
      "source": [
        "# create model (KNN)\n",
        "from sklearn.neighbors import KNeighborsClassifier\n",
        "knn = KNeighborsClassifier(n_neighbors=50)     # k의값 : 3,5,7,9,11,13,15,17,19.......49\n",
        "#y_train = y_train.astype(int)    # fit type error\n",
        "knn.fit(X_train, y_train)"
      ],
      "metadata": {
        "colab": {
          "base_uri": "https://localhost:8080/",
          "height": 93
        },
        "id": "sYpwBsB9khUT",
        "outputId": "688c8cd6-4ae9-4b38-8981-c059cae0881d"
      },
      "execution_count": 144,
      "outputs": [
        {
          "output_type": "execute_result",
          "data": {
            "text/plain": [
              "KNeighborsClassifier(n_neighbors=50)"
            ],
            "text/html": [
              "<style>#sk-container-id-4 {color: black;}#sk-container-id-4 pre{padding: 0;}#sk-container-id-4 div.sk-toggleable {background-color: white;}#sk-container-id-4 label.sk-toggleable__label {cursor: pointer;display: block;width: 100%;margin-bottom: 0;padding: 0.3em;box-sizing: border-box;text-align: center;}#sk-container-id-4 label.sk-toggleable__label-arrow:before {content: \"▸\";float: left;margin-right: 0.25em;color: #696969;}#sk-container-id-4 label.sk-toggleable__label-arrow:hover:before {color: black;}#sk-container-id-4 div.sk-estimator:hover label.sk-toggleable__label-arrow:before {color: black;}#sk-container-id-4 div.sk-toggleable__content {max-height: 0;max-width: 0;overflow: hidden;text-align: left;background-color: #f0f8ff;}#sk-container-id-4 div.sk-toggleable__content pre {margin: 0.2em;color: black;border-radius: 0.25em;background-color: #f0f8ff;}#sk-container-id-4 input.sk-toggleable__control:checked~div.sk-toggleable__content {max-height: 200px;max-width: 100%;overflow: auto;}#sk-container-id-4 input.sk-toggleable__control:checked~label.sk-toggleable__label-arrow:before {content: \"▾\";}#sk-container-id-4 div.sk-estimator input.sk-toggleable__control:checked~label.sk-toggleable__label {background-color: #d4ebff;}#sk-container-id-4 div.sk-label input.sk-toggleable__control:checked~label.sk-toggleable__label {background-color: #d4ebff;}#sk-container-id-4 input.sk-hidden--visually {border: 0;clip: rect(1px 1px 1px 1px);clip: rect(1px, 1px, 1px, 1px);height: 1px;margin: -1px;overflow: hidden;padding: 0;position: absolute;width: 1px;}#sk-container-id-4 div.sk-estimator {font-family: monospace;background-color: #f0f8ff;border: 1px dotted black;border-radius: 0.25em;box-sizing: border-box;margin-bottom: 0.5em;}#sk-container-id-4 div.sk-estimator:hover {background-color: #d4ebff;}#sk-container-id-4 div.sk-parallel-item::after {content: \"\";width: 100%;border-bottom: 1px solid gray;flex-grow: 1;}#sk-container-id-4 div.sk-label:hover label.sk-toggleable__label {background-color: #d4ebff;}#sk-container-id-4 div.sk-serial::before {content: \"\";position: absolute;border-left: 1px solid gray;box-sizing: border-box;top: 0;bottom: 0;left: 50%;z-index: 0;}#sk-container-id-4 div.sk-serial {display: flex;flex-direction: column;align-items: center;background-color: white;padding-right: 0.2em;padding-left: 0.2em;position: relative;}#sk-container-id-4 div.sk-item {position: relative;z-index: 1;}#sk-container-id-4 div.sk-parallel {display: flex;align-items: stretch;justify-content: center;background-color: white;position: relative;}#sk-container-id-4 div.sk-item::before, #sk-container-id-4 div.sk-parallel-item::before {content: \"\";position: absolute;border-left: 1px solid gray;box-sizing: border-box;top: 0;bottom: 0;left: 50%;z-index: -1;}#sk-container-id-4 div.sk-parallel-item {display: flex;flex-direction: column;z-index: 1;position: relative;background-color: white;}#sk-container-id-4 div.sk-parallel-item:first-child::after {align-self: flex-end;width: 50%;}#sk-container-id-4 div.sk-parallel-item:last-child::after {align-self: flex-start;width: 50%;}#sk-container-id-4 div.sk-parallel-item:only-child::after {width: 0;}#sk-container-id-4 div.sk-dashed-wrapped {border: 1px dashed gray;margin: 0 0.4em 0.5em 0.4em;box-sizing: border-box;padding-bottom: 0.4em;background-color: white;}#sk-container-id-4 div.sk-label label {font-family: monospace;font-weight: bold;display: inline-block;line-height: 1.2em;}#sk-container-id-4 div.sk-label-container {text-align: center;}#sk-container-id-4 div.sk-container {/* jupyter's `normalize.less` sets `[hidden] { display: none; }` but bootstrap.min.css set `[hidden] { display: none !important; }` so we also need the `!important` here to be able to override the default hidden behavior on the sphinx rendered scikit-learn.org. See: https://github.com/scikit-learn/scikit-learn/issues/21755 */display: inline-block !important;position: relative;}#sk-container-id-4 div.sk-text-repr-fallback {display: none;}</style><div id=\"sk-container-id-4\" class=\"sk-top-container\"><div class=\"sk-text-repr-fallback\"><pre>KNeighborsClassifier(n_neighbors=50)</pre><b>In a Jupyter environment, please rerun this cell to show the HTML representation or trust the notebook. <br />On GitHub, the HTML representation is unable to render, please try loading this page with nbviewer.org.</b></div><div class=\"sk-container\" hidden><div class=\"sk-item\"><div class=\"sk-estimator sk-toggleable\"><input class=\"sk-toggleable__control sk-hidden--visually\" id=\"sk-estimator-id-4\" type=\"checkbox\" checked><label for=\"sk-estimator-id-4\" class=\"sk-toggleable__label sk-toggleable__label-arrow\">KNeighborsClassifier</label><div class=\"sk-toggleable__content\"><pre>KNeighborsClassifier(n_neighbors=50)</pre></div></div></div></div></div>"
            ]
          },
          "metadata": {},
          "execution_count": 144
        }
      ]
    },
    {
      "cell_type": "code",
      "source": [
        "# model accuracy\n",
        "from sklearn import metrics\n",
        "y_pred = knn.predict(X_test)\n",
        "#y_test = y_test.astype(int)\n",
        "print(\"Accuracy:{}\". format(metrics.accuracy_score(y_test, y_pred)))"
      ],
      "metadata": {
        "colab": {
          "base_uri": "https://localhost:8080/"
        },
        "id": "x0sCRU0Bl9d8",
        "outputId": "1aff3798-724f-4cff-9e92-d96926172640"
      },
      "execution_count": 146,
      "outputs": [
        {
          "output_type": "stream",
          "name": "stdout",
          "text": [
            "Accuracy:0.9333333333333333\n"
          ]
        }
      ]
    },
    {
      "cell_type": "code",
      "source": [
        "#####################################################\n",
        "k = 10\n",
        "acc_array = np.zeros(k)\n",
        "for k in np.arange(1, k+1, 1):\n",
        "    knn = KNeighborsClassifier(n_neighbors=k).fit(X_train, y_train)\n",
        "    y_pred = knn.predict(X_test)\n",
        "    acc = metrics.accuracy_score(y_test, y_pred)\n",
        "    acc_array[k-1] = acc\n",
        "\n",
        "max_acc = np.amax(acc_array)\n",
        "acc_list = list(acc_array)\n",
        "k = acc_list.index(max_acc)\n",
        "print(\"Accuracy is \", metrics.accuracy_score(y_test, y_pred), \"for K-Value:\", k)"
      ],
      "metadata": {
        "colab": {
          "base_uri": "https://localhost:8080/"
        },
        "id": "XFIBH30jsGnq",
        "outputId": "6b8b524b-0fea-4ac0-d500-b07d517792b7"
      },
      "execution_count": 151,
      "outputs": [
        {
          "output_type": "stream",
          "name": "stdout",
          "text": [
            "Accuracy is  1.0 for K-Value: 6\n"
          ]
        }
      ]
    }
  ]
}